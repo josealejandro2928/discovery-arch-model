{
 "cells": [
  {
   "cell_type": "code",
   "execution_count": null,
   "id": "93220443-bc7b-49d3-9789-64e772224a05",
   "metadata": {
    "tags": []
   },
   "outputs": [],
   "source": [
    "pip install pandas numpy  seaborn missingno matplotlib scikit-learn joblib\n"
   ]
  },
  {
   "cell_type": "code",
   "execution_count": null,
   "id": "308a4ec3-df83-4e1b-a7ed-f7c9f4e2e966",
   "metadata": {
    "tags": []
   },
   "outputs": [],
   "source": [
    "\n",
    "import pandas as pd\n",
    "import json\n",
    "import os\n",
    "import missingno as ms\n",
    "import seaborn as sns\n",
    "import matplotlib.pyplot as plt\n",
    "import sklearn as skl"
   ]
  },
  {
   "cell_type": "code",
   "execution_count": null,
   "id": "79675e4d-689f-404b-80e8-b7dee31e104d",
   "metadata": {
    "tags": []
   },
   "outputs": [],
   "source": [
    "dataCsvPath = os.path.join(\"..\",\"results.csv\")\n",
    "data_df = pd.read_csv(dataCsvPath)\n",
    "src_paths = list(data_df[\"src_path\"])\n",
    "\n",
    "print(\"Number of rows:\", data_df.shape[0])\n",
    "print(\"Number of columns:\", data_df.shape[1])\n",
    "print(\"Column names:\", list(data_df.columns))"
   ]
  },
  {
   "cell_type": "code",
   "execution_count": null,
   "id": "4561e13f-c2cc-4b15-953e-23238f83b1ec",
   "metadata": {
    "tags": []
   },
   "outputs": [],
   "source": [
    "data_df.head()"
   ]
  },
  {
   "cell_type": "markdown",
   "id": "a3918ac0-10bd-4e63-8cdd-8893bb9e2129",
   "metadata": {},
   "source": [
    "## Cleaning the data, filtering the non parsed models and removing some columns"
   ]
  },
  {
   "cell_type": "code",
   "execution_count": null,
   "id": "2c906a35-eb3e-471c-845d-aff72a2b02a0",
   "metadata": {
    "tags": []
   },
   "outputs": [],
   "source": [
    "data_df =data_df[(data_df[\"is_parsed\"] == True) & (data_df[\"is_sys_design\"] == True)]\n",
    "df = data_df.loc[:, ~data_df.columns.isin(['src_path', 'conv_path',\"src_ext\",\"doc_files\"])]\n",
    "print(\"Number of rows:\", data_df.shape[0])\n",
    "print(\"Number of columns:\", data_df.shape[1])\n",
    "df.head()"
   ]
  },
  {
   "cell_type": "markdown",
   "id": "bf49cd64-322f-4b31-b3b0-7246d5eeb8b7",
   "metadata": {},
   "source": [
    "## Extracting the String Data and Creating a Data Set for that"
   ]
  },
  {
   "cell_type": "code",
   "execution_count": null,
   "id": "bf4c98aa-1a66-4bf4-b6a6-267d5e18831d",
   "metadata": {
    "tags": []
   },
   "outputs": [],
   "source": [
    "text_models_data = data_df.loc[:,data_df.columns.isin([\"model_name\",\"graph_str_rep\",\"doc_files\"])]\n",
    "text_models_data = text_models_data.drop_duplicates()\n",
    "text_models_data.to_csv(\"data_text.csv\",index=True)\n",
    "text_models_data"
   ]
  },
  {
   "cell_type": "markdown",
   "id": "382d0bbb-da47-4550-8540-55500537119a",
   "metadata": {},
   "source": [
    "## Exploratory analysis"
   ]
  },
  {
   "cell_type": "code",
   "execution_count": null,
   "id": "a3dad2c2-3b18-4777-b498-a4efe7878501",
   "metadata": {
    "tags": []
   },
   "outputs": [],
   "source": [
    "df_num = df.loc[:, ~df.columns.isin([\"is_parsed\",\"is_sys_design\"])]\n",
    "df_num.head()"
   ]
  },
  {
   "cell_type": "code",
   "execution_count": null,
   "id": "839094a2-2cb9-41c1-b843-3e6a0a70a425",
   "metadata": {
    "tags": []
   },
   "outputs": [],
   "source": [
    "df_num.isnull().sum()"
   ]
  },
  {
   "cell_type": "markdown",
   "id": "3867d74e-c0ca-457a-89bb-5f0b92964c67",
   "metadata": {
    "tags": []
   },
   "source": [
    "### Filtering by num of componnents >= 3 "
   ]
  },
  {
   "cell_type": "code",
   "execution_count": null,
   "id": "0300f913-c6a6-4f92-9656-dff0e9aff1bf",
   "metadata": {
    "tags": []
   },
   "outputs": [],
   "source": [
    "df_num = df_num[(df_num[\"no_components\"] >= 3)]\n",
    "df_num"
   ]
  },
  {
   "cell_type": "markdown",
   "id": "688620fe-e487-4939-b57e-10462dccf2bf",
   "metadata": {},
   "source": [
    "### Droping duplicates with build-in and with custom similarity function"
   ]
  },
  {
   "cell_type": "code",
   "execution_count": null,
   "id": "a757b998-04cb-4851-a0f8-887f400572ee",
   "metadata": {
    "tags": []
   },
   "outputs": [],
   "source": [
    "df_num.drop_duplicates(inplace=True)\n",
    "df_num"
   ]
  },
  {
   "cell_type": "markdown",
   "id": "820cdb50-db1d-43ca-8435-785a2cac16fa",
   "metadata": {},
   "source": [
    "## Visualization, metrics and statistics over the data"
   ]
  },
  {
   "cell_type": "code",
   "execution_count": null,
   "id": "a7f40f9a-9c7d-4c58-960d-67865a462d68",
   "metadata": {
    "tags": []
   },
   "outputs": [],
   "source": [
    "df_data = df_num"
   ]
  },
  {
   "cell_type": "code",
   "execution_count": null,
   "id": "5a486ff3-1545-4e8c-8e9b-5ebc78eec182",
   "metadata": {
    "tags": []
   },
   "outputs": [],
   "source": [
    "# Missing values\n",
    "plt.title(\"Missing Values\", fontsize=12)\n",
    "ms.bar(df_data,fontsize=8,figsize=(10,3))"
   ]
  },
  {
   "cell_type": "markdown",
   "id": "f588780d-6d95-45f4-899c-7a4f43a31c98",
   "metadata": {},
   "source": [
    "## Distribution for numerical metrics"
   ]
  },
  {
   "cell_type": "markdown",
   "id": "38a0f326-7cab-49d2-af0f-66e305bc4c2b",
   "metadata": {},
   "source": [
    "### Distributions for amount of component, connection and size of every model"
   ]
  },
  {
   "cell_type": "code",
   "execution_count": null,
   "id": "0350183b-94f0-4626-a19f-f0b3def4c887",
   "metadata": {
    "tags": []
   },
   "outputs": [],
   "source": [
    "fig, axes = plt.subplots(1, 2, figsize=(20,6))\n",
    "fig.suptitle('Distribution of # components, # connections and size',fontsize=12)\n",
    "axes[0].set_title('# components:',fontsize=10)\n",
    "axes[1].set_title('# connections:',fontsize=10)\n",
    "# axes[2].set_title('# size:',fontsize=10)\n",
    "sns.histplot(ax=axes[0],data=df_data['no_components'],kde=True);\n",
    "sns.histplot(ax=axes[1],data=df_data['no_connectors'],kde=True);\n",
    "axes[0].set_ylim([0, 100])\n",
    "axes[1].set_ylim([0, 200])\n",
    "# sns.histplot(ax=axes[2],data=df_num['size'],kde=True);\n"
   ]
  },
  {
   "cell_type": "markdown",
   "id": "ef76684a-9e81-4627-9f89-779e02161d26",
   "metadata": {
    "tags": []
   },
   "source": [
    "### Description for the size parametter"
   ]
  },
  {
   "cell_type": "code",
   "execution_count": null,
   "id": "a1de5e50-dc9c-4337-acb5-2bb2856e7b85",
   "metadata": {
    "tags": []
   },
   "outputs": [],
   "source": [
    "plt.figure(figsize=(8,4))\n",
    "plt.grid()\n",
    "sns.lineplot(data=df_data[[\"no_size\"]].describe().drop(\"count\",axis=0))"
   ]
  },
  {
   "cell_type": "code",
   "execution_count": null,
   "id": "2aa1e439-efb3-4c1e-97f1-7e2d73e818b6",
   "metadata": {
    "tags": []
   },
   "outputs": [],
   "source": [
    "df_data[[\"no_size\"]].describe()"
   ]
  },
  {
   "cell_type": "code",
   "execution_count": null,
   "id": "4ec2ef91-8031-437d-afe9-06219cb7b7c7",
   "metadata": {
    "tags": []
   },
   "outputs": [],
   "source": [
    "small_size = df_data[(df_num[\"no_size\"] >= 1) & (df_data[\"no_size\"] <= 13) ]\n",
    "(x,_) = small_size.shape\n",
    "print(\"percent: \", ((x) / df_data.shape[0])*100)\n",
    "small_size"
   ]
  },
  {
   "cell_type": "markdown",
   "id": "1b33ab72-2d09-4f1b-b44f-5b53d4a5b3fc",
   "metadata": {
    "tags": []
   },
   "source": [
    "### Distributions for amount of category of the components"
   ]
  },
  {
   "cell_type": "code",
   "execution_count": null,
   "id": "9fd1f5f7-4b58-445a-8832-6b199349ad75",
   "metadata": {
    "tags": []
   },
   "outputs": [],
   "source": [
    "fig, axes = plt.subplots(1, 2, figsize=(20,5))\n",
    "fig.suptitle('Distribution of # category types: [\"no_hardware_comp\",\"no_software_comp\"]',fontsize=12)\n",
    "axes[0].set_title('# no_hardware_comp:',fontsize=10)\n",
    "axes[1].set_title('# no_software_comp:',fontsize=10)\n",
    "sns.histplot(ax=axes[0],data=df_data['no_hardware_comp'],kde=True,color='orange');\n",
    "sns.histplot(ax=axes[1],data=df_data['no_software_comp'],kde=True,color='orange');\n",
    "axes[0].set_ylim([0, 100])\n",
    "axes[1].set_ylim([0, 200])"
   ]
  },
  {
   "cell_type": "markdown",
   "id": "ffe87ce6-0a87-440e-b5ae-bd0dca65cdaa",
   "metadata": {},
   "source": [
    "### Description for no_hardware_comp and no_software_comp"
   ]
  },
  {
   "cell_type": "code",
   "execution_count": null,
   "id": "c4815178-673e-4648-aeb9-155a5aaefba7",
   "metadata": {
    "tags": []
   },
   "outputs": [],
   "source": [
    "df_data[[\"no_hardware_comp\"]].describe()"
   ]
  },
  {
   "cell_type": "code",
   "execution_count": null,
   "id": "f54817b7-fcee-4a0d-9d15-2b7c3feba158",
   "metadata": {
    "tags": []
   },
   "outputs": [],
   "source": [
    "df_data[[\"no_software_comp\"]].describe()"
   ]
  },
  {
   "cell_type": "code",
   "execution_count": null,
   "id": "b1ea6fbf-18d2-4ce0-9648-ae9e11450dfd",
   "metadata": {
    "tags": []
   },
   "outputs": [],
   "source": [
    "df_data[df_data[\"no_software_comp\"]>= 5]"
   ]
  },
  {
   "cell_type": "code",
   "execution_count": null,
   "id": "feeafc26-049d-40dc-a4c5-05111762a8c1",
   "metadata": {
    "tags": []
   },
   "outputs": [],
   "source": [
    "df_data[df_data[\"no_hardware_comp\"] >= 5]"
   ]
  },
  {
   "cell_type": "code",
   "execution_count": null,
   "id": "adb38d20-67d6-4cfe-a986-b413c89a1a97",
   "metadata": {
    "tags": []
   },
   "outputs": [],
   "source": [
    "df_data[[\"no_data_comp\"]].describe()"
   ]
  },
  {
   "cell_type": "code",
   "execution_count": null,
   "id": "cfc29db5-7cd5-43f7-8b67-79bb87307bc8",
   "metadata": {
    "tags": []
   },
   "outputs": [],
   "source": [
    "df_data[df_data[\"no_data_comp\"] >= 5].head(10)"
   ]
  },
  {
   "cell_type": "code",
   "execution_count": null,
   "id": "159a5297-64d5-43e5-baa0-a8cb3f72222b",
   "metadata": {
    "tags": []
   },
   "outputs": [],
   "source": [
    "df_data[df_data[\"no_sys_comp\"] >= 5]"
   ]
  },
  {
   "cell_type": "code",
   "execution_count": null,
   "id": "a872e939-93ca-48fc-afbe-313103f873da",
   "metadata": {
    "tags": []
   },
   "outputs": [],
   "source": [
    "plt.figure(figsize=(8,4))\n",
    "plt.grid()\n",
    "sns.lineplot(data=df_data[[\"no_hardware_comp\",\"no_software_comp\"]].describe().drop(\"count\",axis=0))"
   ]
  },
  {
   "cell_type": "markdown",
   "id": "3937f541-e6f3-4ebd-9957-427a360ede02",
   "metadata": {},
   "source": [
    "### Distributions for understandability, cohesion, coupling"
   ]
  },
  {
   "cell_type": "code",
   "execution_count": null,
   "id": "de9cb28f-cf02-4d7c-9a61-7959e7eaaa34",
   "metadata": {
    "tags": []
   },
   "outputs": [],
   "source": [
    "fig, axes = plt.subplots(1, 4, figsize=(20,5))\n",
    "fig.suptitle('Distribution of # category types: [\"understandability\",\"cohesion\",\"coupling\",\"complexity\"]',fontsize=12)\n",
    "axes[0].set_title('# understandability:',fontsize=10)\n",
    "axes[1].set_title('# cohesion:',fontsize=10)\n",
    "axes[2].set_title('# coupling:',fontsize=10)\n",
    "axes[3].set_title('# complexity:',fontsize=10)\n",
    "sns.histplot(ax=axes[0],data=df_data['understandability'],kde=True,color='green');\n",
    "sns.histplot(ax=axes[1],data=df_data['cohesion'],kde=True,color='green');\n",
    "sns.histplot(ax=axes[2],data=df_data['coupling'],kde=True,color='green');\n",
    "sns.histplot(ax=axes[3],data=df_data['complexity'],kde=True,color='green');\n",
    "axes[0].set_ylim([0, 100])\n",
    "axes[1].set_ylim([0, 200])\n",
    "axes[2].set_ylim([0, 200])\n",
    "axes[3].set_ylim([0, 40])"
   ]
  },
  {
   "cell_type": "markdown",
   "id": "12711962-c72a-4ba6-9cde-2cb068e646f6",
   "metadata": {},
   "source": [
    "### Description for understandability and cohesion"
   ]
  },
  {
   "cell_type": "code",
   "execution_count": null,
   "id": "c8295b05-7648-48b8-9120-8cb9ef1127c2",
   "metadata": {
    "tags": []
   },
   "outputs": [],
   "source": [
    "df_data[\"coupling\"].describe()"
   ]
  },
  {
   "cell_type": "code",
   "execution_count": null,
   "id": "b4cb172d-a4dd-4525-8aab-6a873f4103fd",
   "metadata": {
    "tags": []
   },
   "outputs": [],
   "source": [
    "df_data[(df_data[\"complexity\"] >=6) & (df_data[\"complexity\"] <= 8) ].head(10)"
   ]
  },
  {
   "cell_type": "code",
   "execution_count": null,
   "id": "5b3a31d3-4c60-4955-8712-3e38d261d8c9",
   "metadata": {
    "tags": []
   },
   "outputs": [],
   "source": [
    "plt.figure(figsize=(8,4))\n",
    "plt.grid()\n",
    "sns.lineplot(data=df_data[[\"understandability\",\"cohesion\"]].describe().drop(\"count\",axis=0))\n",
    "plt.ylim([0, 5])"
   ]
  },
  {
   "cell_type": "markdown",
   "id": "b8543d0a-927c-4246-bf41-3f37037c5992",
   "metadata": {
    "tags": []
   },
   "source": [
    "### Description for coupling"
   ]
  },
  {
   "cell_type": "code",
   "execution_count": null,
   "id": "deca2c60-59c5-4fa1-9b62-068ed6c1c137",
   "metadata": {
    "tags": []
   },
   "outputs": [],
   "source": [
    "plt.figure(figsize=(8,4))\n",
    "plt.grid()\n",
    "sns.lineplot(data=df_data[[\"coupling\"]].describe().drop(\"count\",axis=0))\n",
    "plt.ylim([0, 40])"
   ]
  },
  {
   "cell_type": "markdown",
   "id": "3f318973-51c3-4958-98c9-bf55961b52df",
   "metadata": {},
   "source": [
    "### Distributions for graph metrics graph_density, avg_shortest_path, avg_clust_coeff, avg_deg_cent"
   ]
  },
  {
   "cell_type": "code",
   "execution_count": null,
   "id": "cfc90991-c2ac-4031-a829-67afb1d361e0",
   "metadata": {
    "tags": []
   },
   "outputs": [],
   "source": [
    "fig, axes = plt.subplots(1, 3, figsize=(20,5))\n",
    "fig.suptitle('Distribution of # category types: [\"graph_density\",\"avg_shortest_path\",\"avg_deg_cent\"]',fontsize=12)\n",
    "axes[0].set_title('# graph_density:',fontsize=10)\n",
    "axes[1].set_title('# avg_shortest_path:',fontsize=10)\n",
    "axes[2].set_title('# avg_deg_cent:',fontsize=10)\n",
    "sns.histplot(ax=axes[0],data=df_data['graph_density'],kde=True,color='blue');\n",
    "sns.histplot(ax=axes[1],data=df_data['avg_shortest_path'],kde=True,color='blue');\n",
    "sns.histplot(ax=axes[2],data=df_data['avg_deg_cent'],kde=True,color='blue');\n",
    "axes[0].set_ylim([0, 500])\n",
    "axes[1].set_ylim([0, 500])\n",
    "axes[2].set_ylim([0, 800])"
   ]
  },
  {
   "cell_type": "markdown",
   "id": "cd15334e-768e-48c2-bbd4-a51f328c4e21",
   "metadata": {
    "tags": []
   },
   "source": [
    "### Description for avg_shortest_path, graph_density, avg_deg_cent, avg_clust_coeff"
   ]
  },
  {
   "cell_type": "code",
   "execution_count": null,
   "id": "8670c630-e4a4-4396-9a4b-ddec41d07a76",
   "metadata": {
    "tags": []
   },
   "outputs": [],
   "source": [
    "plt.figure(figsize=(8,4))\n",
    "plt.grid()\n",
    "sns.lineplot(data=df_data[[\"avg_shortest_path\"]].describe().drop(\"count\",axis=0))"
   ]
  },
  {
   "cell_type": "code",
   "execution_count": null,
   "id": "26bcbe95-a7bc-429c-858d-be6e30448863",
   "metadata": {
    "tags": []
   },
   "outputs": [],
   "source": [
    "plt.figure(figsize=(8,4))\n",
    "plt.grid()\n",
    "sns.lineplot(data=df_data[[\"graph_density\"]].describe().drop(\"count\",axis=0))"
   ]
  },
  {
   "cell_type": "code",
   "execution_count": null,
   "id": "f6a943f4-da5c-448a-bd81-9f03776677bf",
   "metadata": {
    "tags": []
   },
   "outputs": [],
   "source": [
    "plt.figure(figsize=(8,4))\n",
    "plt.grid()\n",
    "sns.lineplot(data=df_data[[\"avg_deg_cent\"]].describe().drop(\"count\",axis=0))"
   ]
  },
  {
   "cell_type": "markdown",
   "id": "ac4e6b90-d035-4a9e-862c-7151045fc064",
   "metadata": {},
   "source": [
    "## Trying to get reelation between variables"
   ]
  },
  {
   "cell_type": "code",
   "execution_count": null,
   "id": "06efd141-0385-48ba-85d1-c792075d4dab",
   "metadata": {
    "tags": []
   },
   "outputs": [],
   "source": [
    "sns.pairplot(df_data[[\"no_size\",\"cohesion\",\"coupling\",\"understandability\",\"complexity\",\"avg_shortest_path\",\"avg_deg_cent\",\"no_hardware_comp\",\n",
    "                             \"no_software_comp\"]])\n"
   ]
  },
  {
   "cell_type": "markdown",
   "id": "a110ddf3-6436-47d4-ac5f-5296f88957a9",
   "metadata": {
    "tags": []
   },
   "source": [
    "### Correlation Matrix"
   ]
  },
  {
   "cell_type": "code",
   "execution_count": null,
   "id": "08af6d63-c3dc-4edb-bc49-a601b17d48ea",
   "metadata": {
    "tags": []
   },
   "outputs": [],
   "source": [
    "plt.figure(figsize=(12,8))\n",
    "df_num_corr =  df_data.loc[:, ~df_data.columns.isin(['model_name', \"sys_name\"])]\n",
    "corrmat = df_num_corr.corr()\n",
    "hm = sns.heatmap(corrmat, \n",
    "                 cbar=True, \n",
    "                 annot=True, \n",
    "                 square=True, \n",
    "                 fmt='.2f', \n",
    "                 annot_kws={'size': 8}, \n",
    "                 yticklabels=df_num_corr.columns, \n",
    "                 xticklabels=df_num_corr.columns, \n",
    "                 cmap=\"Spectral_r\")\n",
    "plt.show()"
   ]
  },
  {
   "cell_type": "markdown",
   "id": "f3646e05-e70a-45de-b9b5-aa546eb5d40a",
   "metadata": {},
   "source": [
    "## Clustering"
   ]
  },
  {
   "cell_type": "code",
   "execution_count": null,
   "id": "e451de16-d944-4ce5-b00a-9fcd256f3621",
   "metadata": {
    "tags": []
   },
   "outputs": [],
   "source": [
    "from numpy import unique\n",
    "from numpy import where\n",
    "from sklearn.datasets import make_classification\n",
    "from sklearn.cluster import KMeans"
   ]
  },
  {
   "cell_type": "code",
   "execution_count": null,
   "id": "c4c14102-6207-4403-86f5-77a3b535b55b",
   "metadata": {
    "tags": []
   },
   "outputs": [],
   "source": [
    "X =  df_data.loc[:, ~df_data.columns.isin(['model_name', \"sys_name\"])].values"
   ]
  },
  {
   "cell_type": "code",
   "execution_count": null,
   "id": "061949e1-afe5-4a94-8604-edaa77c26057",
   "metadata": {
    "tags": []
   },
   "outputs": [],
   "source": [
    "wcss = []\n",
    "no_clusters = 4\n",
    "for i in range(1, no_clusters):\n",
    "    kmeans = KMeans(n_clusters=i, init='k-means++', max_iter=300, n_init=10, random_state=0)\n",
    "    kmeans.fit(X)\n",
    "    wcss.append(kmeans.inertia_)\n",
    "\n",
    "# Plot the WCSS versus the number of clusters\n",
    "plt.plot(range(1, no_clusters), wcss)\n",
    "plt.title('Elbow Method')\n",
    "plt.xlabel('Number of clusters')\n",
    "plt.ylabel('WCSS')\n",
    "plt.grid()\n",
    "plt.show()"
   ]
  },
  {
   "cell_type": "code",
   "execution_count": null,
   "id": "559d914c-d9e4-495f-8164-89deb01fd60b",
   "metadata": {
    "tags": []
   },
   "outputs": [],
   "source": [
    "model = KMeans(n_clusters=2,n_init=\"auto\")\n",
    "model.fit(X)"
   ]
  },
  {
   "cell_type": "code",
   "execution_count": null,
   "id": "43f8f56e-4b61-4e81-af1a-a92b7d7df043",
   "metadata": {
    "tags": []
   },
   "outputs": [],
   "source": [
    "# assign a cluster to each example\n",
    "labels = model.predict(X)\n",
    "clusters = unique(labels)\n",
    "centroids = model.cluster_centers_\n",
    "print(labels)\n",
    "print(clusters)"
   ]
  },
  {
   "cell_type": "code",
   "execution_count": null,
   "id": "58ca20e7-a68f-4358-95fc-a5472038fc12",
   "metadata": {
    "tags": []
   },
   "outputs": [],
   "source": [
    "for cluster in clusters:\n",
    "    plt.scatter(df_data[labels == cluster][\"no_size\"],df_data[labels == cluster][\"complexity\"], label = cluster)\n",
    "plt.scatter(centroids[:,0] , centroids[:,1] , s = 10, color = 'k')\n",
    "plt.legend()\n",
    "plt.show()"
   ]
  },
  {
   "cell_type": "code",
   "execution_count": null,
   "id": "8b089a66-a0c3-4766-b7d4-5abe3ed73f81",
   "metadata": {},
   "outputs": [],
   "source": [
    "for cluster in clusters:\n",
    "    plt.scatter(df_data[labels == cluster][\"no_hardware_comp\"],df_data[labels == cluster][\"no_software_comp\"], label = cluster)\n",
    "plt.scatter(centroids[:,0] , centroids[:,1] , s = 10, color = 'k')\n",
    "plt.legend()\n",
    "plt.show()"
   ]
  },
  {
   "cell_type": "code",
   "execution_count": null,
   "id": "2aaea582-dbc9-44c3-b8f2-445c6c5cf31a",
   "metadata": {
    "tags": []
   },
   "outputs": [],
   "source": [
    "for cluster in clusters:\n",
    "    plt.scatter(df_data[labels == cluster][\"coupling\"],df_data[labels == cluster][\"no_software_comp\"], label = cluster)\n",
    "plt.scatter(centroids[:,0] , centroids[:,1] , s = 10, color = 'k')\n",
    "plt.legend()\n",
    "plt.show()"
   ]
  },
  {
   "cell_type": "code",
   "execution_count": null,
   "id": "7351e5b3-30ea-4255-9b3b-b33b8350799c",
   "metadata": {
    "tags": []
   },
   "outputs": [],
   "source": [
    "df_data[labels == 0]"
   ]
  },
  {
   "cell_type": "code",
   "execution_count": null,
   "id": "52526ec9-ce8e-4b60-94b6-94772afe4ff1",
   "metadata": {
    "tags": []
   },
   "outputs": [],
   "source": [
    "df_data[labels == 1]"
   ]
  },
  {
   "cell_type": "code",
   "execution_count": null,
   "id": "27e6b63a-594a-47e7-8b3d-ca1fc175ff41",
   "metadata": {
    "tags": []
   },
   "outputs": [],
   "source": [
    "df_data[labels == 2]"
   ]
  },
  {
   "cell_type": "code",
   "execution_count": null,
   "id": "3a8f7cca-e581-4340-95ec-ad8bd996b62d",
   "metadata": {
    "tags": []
   },
   "outputs": [],
   "source": [
    "df_data[labels == 3]"
   ]
  }
 ],
 "metadata": {
  "kernelspec": {
   "display_name": "Python 3 (ipykernel)",
   "language": "python",
   "name": "python3"
  },
  "language_info": {
   "codemirror_mode": {
    "name": "ipython",
    "version": 3
   },
   "file_extension": ".py",
   "mimetype": "text/x-python",
   "name": "python",
   "nbconvert_exporter": "python",
   "pygments_lexer": "ipython3",
   "version": "3.10.7"
  },
  "vscode": {
   "interpreter": {
    "hash": "916dbcbb3f70747c44a77c7bcd40155683ae19c65e1c03b4aa3499c5328201f1"
   }
  }
 },
 "nbformat": 4,
 "nbformat_minor": 5
}
